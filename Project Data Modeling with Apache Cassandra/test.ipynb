{
 "cells": [
  {
   "cell_type": "markdown",
   "metadata": {
    "editable": true
   },
   "source": [
    "# Test queries to access Project-2 sparkifydb\n",
    "This file has queries to verify data in sparkifydb in Apache Cassandra\n",
    "There are two types of queries:\n",
    "1) Query1-3 to answer the exact questions asked in Project-2\n",
    "2) Generic queries to access sparkifydb data more generally."
   ]
  },
  {
   "cell_type": "code",
   "execution_count": 1,
   "metadata": {
    "editable": true
   },
   "outputs": [],
   "source": [
    "import pandas as pd\n",
    "import cassandra\n",
    "import re\n",
    "import os\n",
    "import glob\n",
    "import numpy as np\n",
    "import json\n",
    "import csv"
   ]
  },
  {
   "cell_type": "code",
   "execution_count": 2,
   "metadata": {
    "editable": true
   },
   "outputs": [],
   "source": [
    "from cassandra.cluster import Cluster\n",
    "try: \n",
    "    cluster = Cluster(['127.0.0.1'])\n",
    "    session = cluster.connect()\n",
    "\n",
    "except Exception as e:\n",
    "    print(e)\n",
    "\n",
    "try:\n",
    "    session.set_keyspace('sparkifydb')\n",
    "except Exception as e:\n",
    "    print(e)"
   ]
  },
  {
   "cell_type": "markdown",
   "metadata": {
    "editable": true
   },
   "source": [
    "## Specific Project-2 queries"
   ]
  },
  {
   "cell_type": "markdown",
   "metadata": {
    "editable": true
   },
   "source": [
    "QUERY-1: Give me the artist, song title and song's length in the music app history that was heard during sessionId = 338, and itemInSession = 4\n"
   ]
  },
  {
   "cell_type": "code",
   "execution_count": 4,
   "metadata": {
    "editable": true
   },
   "outputs": [],
   "source": [
    "query =  \"\"\"SELECT artist, song, length \n",
    "            FROM song_in_session \n",
    "            WHERE session_id = 338 AND item_in_session = 4\"\"\"\n",
    "try:\n",
    "    songs = session.execute(query)\n",
    "except Exception as e:\n",
    "    print(e)\n",
    "\n",
    "for row in songs:\n",
    "    print (row.artist, row.song, row.length)"
   ]
  },
  {
   "cell_type": "markdown",
   "metadata": {
    "editable": true
   },
   "source": [
    "QUERY-2: Give me only the following: name of artist, song (sorted by itemInSession) and user (first and last name) for userid = 10, sessionid = 182\n"
   ]
  },
  {
   "cell_type": "code",
   "execution_count": 5,
   "metadata": {
    "editable": true
   },
   "outputs": [],
   "source": [
    "query =  \"\"\"SELECT artist, song, first_name, last_name \n",
    "            FROM artist_in_session \n",
    "            WHERE  user_id = 10 AND session_id = 182\"\"\"\n",
    "try:\n",
    "    songs = session.execute(query)\n",
    "except Exception as e:\n",
    "    print(e)\n",
    "\n",
    "for row in songs:\n",
    "    print (row.artist, row.song, row.first_name, row.last_name)"
   ]
  },
  {
   "cell_type": "markdown",
   "metadata": {
    "editable": true
   },
   "source": [
    "QUERY-3: Give me every user name (first and last) in my music app history who listened to the song 'All Hands Against His Own'\n"
   ]
  },
  {
   "cell_type": "code",
   "execution_count": 6,
   "metadata": {
    "editable": true
   },
   "outputs": [],
   "source": [
    "query =  \"\"\"SELECT first_name, last_name \n",
    "            FROM user_and_song \n",
    "            WHERE song = 'All Hands Against His Own'\"\"\"\n",
    "try:\n",
    "    songs = session.execute(query)\n",
    "except Exception as e:\n",
    "    print(e)\n",
    "\n",
    "for row in songs:\n",
    "    print (row.first_name, row.last_name)"
   ]
  },
  {
   "cell_type": "markdown",
   "metadata": {
    "editable": true
   },
   "source": [
    "## Generic queries"
   ]
  },
  {
   "cell_type": "code",
   "execution_count": 7,
   "metadata": {
    "editable": true
   },
   "outputs": [
    {
     "name": "stdout",
     "output_type": "stream",
     "text": [
      "Row(count=0)\n",
      "---\n",
      "session_id | item_in_session | artist | length | song\n"
     ]
    }
   ],
   "source": [
    "query = \"SELECT COUNT(*) FROM song_in_session\"\n",
    "try:\n",
    "    songs = session.execute(query)\n",
    "except Exception as e:\n",
    "    print(e)\n",
    "\n",
    "for row in songs:\n",
    "    print (row)\n",
    "\n",
    "print('---')\n",
    "query = \"SELECT * FROM song_in_session LIMIT 10\"\n",
    "try:\n",
    "    songs = session.execute(query)\n",
    "except Exception as e:\n",
    "    print(e)\n",
    "\n",
    "print (\"session_id\", \"|\", \"item_in_session\", \"|\", \"artist\", \"|\", \"length\", \"|\", \"song\")\n",
    "for row in songs:\n",
    "    print (row.session_id, \"|\", row.item_in_session, \"|\", row.artist, \"|\", row.length, \"|\", row.song)"
   ]
  },
  {
   "cell_type": "code",
   "execution_count": 8,
   "metadata": {
    "editable": true
   },
   "outputs": [
    {
     "name": "stdout",
     "output_type": "stream",
     "text": [
      "Row(count=0)\n",
      "---\n",
      "user_id | session_id | item_in_session | artist | first_name | last_name\n"
     ]
    }
   ],
   "source": [
    "query = \"SELECT COUNT(*) FROM artist_in_session\"\n",
    "try:\n",
    "    songs = session.execute(query)\n",
    "except Exception as e:\n",
    "    print(e)\n",
    "\n",
    "for row in songs:\n",
    "    print (row)\n",
    "\n",
    "print('---')\n",
    "query = \"SELECT * FROM artist_in_session LIMIT 10\"\n",
    "try:\n",
    "    songs = session.execute(query)\n",
    "except Exception as e:\n",
    "    print(e)\n",
    "\n",
    "print (\"user_id\", \"|\", \"session_id\", \"|\", \"item_in_session\", \"|\", \"artist\", \"|\", \"first_name\", \"|\", \"last_name\")\n",
    "for row in songs:\n",
    "    print (row.user_id, \"|\", row.session_id, \"|\", row.item_in_session, \"|\", row.artist, \"|\", row.first_name, \"|\", row.last_name)"
   ]
  },
  {
   "cell_type": "code",
   "execution_count": 14,
   "metadata": {
    "editable": true
   },
   "outputs": [],
   "source": [
    "query = \"SELECT COUNT(*) FROM user_and_song\"\n",
    "try:\n",
    "    songs = session.execute(query)\n",
    "except Exception as e:\n",
    "    print(e)\n",
    "\n",
    "for row in songs:\n",
    "    print (row)\n",
    "\n",
    "print('---')\n",
    "query = \"SELECT * FROM user_and_song LIMIT 10\"\n",
    "try:\n",
    "    songs = session.execute(query)\n",
    "except Exception as e:\n",
    "    print(e)\n",
    "\n",
    "print(\"song\", \"|\", \"first_name\", \"|\", \"last_name\", \"|\", \"user_id\")\n",
    "for row in songs:\n",
    "    print (row.song, \"|\", row.first_name, \"|\", row.last_name, \"|\", row.user_id)"
   ]
  },
  {
   "cell_type": "markdown",
   "metadata": {
    "editable": true
   },
   "source": [
    "## REMEMBER: Restart this notebook to close connection to `sparkifydb`\n",
    "Each time you run the cells above, remember to restart this notebook to close the connection to your database. Otherwise, you won't be able to run your code in `create_tables.py`, `etl.py`, or `etl.ipynb` files since you can't make multiple connections to the same database (in this case, sparkifydb)."
   ]
  },
  {
   "cell_type": "code",
   "execution_count": null,
   "metadata": {
    "editable": true
   },
   "outputs": [],
   "source": []
  }
 ],
 "metadata": {
  "kernelspec": {
   "display_name": "Python 3",
   "language": "python",
   "name": "python3"
  },
  "language_info": {
   "codemirror_mode": {
    "name": "ipython",
    "version": 3
   },
   "file_extension": ".py",
   "mimetype": "text/x-python",
   "name": "python",
   "nbconvert_exporter": "python",
   "pygments_lexer": "ipython3",
   "version": "3.6.3"
  }
 },
 "nbformat": 4,
 "nbformat_minor": 4
}
